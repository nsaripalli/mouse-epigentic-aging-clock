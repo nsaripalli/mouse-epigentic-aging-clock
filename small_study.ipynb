{
  "nbformat": 4,
  "nbformat_minor": 0,
  "metadata": {
    "colab": {
      "name": "Untitled1.ipynb",
      "provenance": []
    },
    "kernelspec": {
      "name": "python3",
      "display_name": "Python 3"
    },
    "language_info": {
      "name": "python"
    }
  },
  "cells": [
    {
      "cell_type": "code",
      "execution_count": null,
      "metadata": {
        "colab": {
          "base_uri": "https://localhost:8080/"
        },
        "id": "TP2XDaQZ2YWC",
        "outputId": "c06ee4d0-3ca0-4235-cef0-a50b125fd965"
      },
      "outputs": [
        {
          "output_type": "stream",
          "name": "stdout",
          "text": [
            "Requirement already satisfied: scikit-learn in /usr/local/lib/python3.7/dist-packages (1.0.2)\n",
            "Requirement already satisfied: numpy>=1.14.6 in /usr/local/lib/python3.7/dist-packages (from scikit-learn) (1.21.6)\n",
            "Requirement already satisfied: threadpoolctl>=2.0.0 in /usr/local/lib/python3.7/dist-packages (from scikit-learn) (3.1.0)\n",
            "Requirement already satisfied: joblib>=0.11 in /usr/local/lib/python3.7/dist-packages (from scikit-learn) (1.1.0)\n",
            "Requirement already satisfied: scipy>=1.1.0 in /usr/local/lib/python3.7/dist-packages (from scikit-learn) (1.4.1)\n"
          ]
        }
      ],
      "source": [
        "!pip install scikit-learn"
      ]
    },
    {
      "cell_type": "code",
      "source": [
        "import sklearn"
      ],
      "metadata": {
        "id": "UAUGSMD02vWA"
      },
      "execution_count": null,
      "outputs": []
    },
    {
      "cell_type": "code",
      "source": [
        "import pandas as pd"
      ],
      "metadata": {
        "id": "EWtSmN6L21E8"
      },
      "execution_count": 2,
      "outputs": []
    },
    {
      "cell_type": "code",
      "source": [
        "merged = pd.read_csv(\"/content/drive/MyDrive/Colab Notebooks/mergeAll.csv\").T"
      ],
      "metadata": {
        "id": "iiHSTMa94BRP"
      },
      "execution_count": 3,
      "outputs": []
    },
    {
      "cell_type": "code",
      "source": [
        "merged.columns = merged.iloc[0]\n",
        "merged = merged.drop(merged.index[0])"
      ],
      "metadata": {
        "id": "9HAnLIyb7NjM"
      },
      "execution_count": 4,
      "outputs": []
    },
    {
      "cell_type": "code",
      "source": [
        "merged.describe()"
      ],
      "metadata": {
        "colab": {
          "base_uri": "https://localhost:8080/",
          "height": 204
        },
        "id": "jo2HfqvM4Ii1",
        "outputId": "abc92985-4241-4e8a-9043-73dcb2bb4741"
      },
      "execution_count": 5,
      "outputs": [
        {
          "output_type": "execute_result",
          "data": {
            "text/plain": [
              "Unnamed: 0  1:10038066  1:101374410  1:101374418  1:105356622  1:105356633  \\\n",
              "count            191.0        191.0        191.0        191.0        191.0   \n",
              "unique            25.0         81.0         95.0         26.0         19.0   \n",
              "top                0.0          1.0          1.0          0.0          0.0   \n",
              "freq             147.0         46.0         32.0        148.0        171.0   \n",
              "\n",
              "Unnamed: 0  1:105780925  1:106173313  1:106759301  1:109034542  1:110429621  \\\n",
              "count             191.0        191.0        191.0        191.0       191.00   \n",
              "unique             47.0         80.0         35.0        115.0       100.00   \n",
              "top                 0.0          0.0          0.0          1.0         0.75   \n",
              "freq              124.0         53.0        142.0         23.0        11.00   \n",
              "\n",
              "Unnamed: 0  ...  9:99242555  9:99436311  9:99436319  9:99479500  9:99874946  \\\n",
              "count       ...       191.0       191.0       191.0  191.000000       191.0   \n",
              "unique      ...        53.0        50.0        39.0  124.000000        77.0   \n",
              "top         ...         0.0         0.0         0.0    0.264706         0.0   \n",
              "freq        ...        95.0       117.0       146.0    5.000000        54.0   \n",
              "\n",
              "Unnamed: 0  9:99874971  9:99874976  9:99874986  9:99876214  9:99876329  \n",
              "count            191.0       191.0       191.0       191.0       191.0  \n",
              "unique           110.0        91.0        93.0        43.0        41.0  \n",
              "top                0.0         0.0         0.0         0.0         0.0  \n",
              "freq               9.0        49.0        31.0       124.0       129.0  \n",
              "\n",
              "[4 rows x 17992 columns]"
            ],
            "text/html": [
              "\n",
              "  <div id=\"df-e14b7d17-f4fe-416b-bdec-0d1a39d11a10\">\n",
              "    <div class=\"colab-df-container\">\n",
              "      <div>\n",
              "<style scoped>\n",
              "    .dataframe tbody tr th:only-of-type {\n",
              "        vertical-align: middle;\n",
              "    }\n",
              "\n",
              "    .dataframe tbody tr th {\n",
              "        vertical-align: top;\n",
              "    }\n",
              "\n",
              "    .dataframe thead th {\n",
              "        text-align: right;\n",
              "    }\n",
              "</style>\n",
              "<table border=\"1\" class=\"dataframe\">\n",
              "  <thead>\n",
              "    <tr style=\"text-align: right;\">\n",
              "      <th>Unnamed: 0</th>\n",
              "      <th>1:10038066</th>\n",
              "      <th>1:101374410</th>\n",
              "      <th>1:101374418</th>\n",
              "      <th>1:105356622</th>\n",
              "      <th>1:105356633</th>\n",
              "      <th>1:105780925</th>\n",
              "      <th>1:106173313</th>\n",
              "      <th>1:106759301</th>\n",
              "      <th>1:109034542</th>\n",
              "      <th>1:110429621</th>\n",
              "      <th>...</th>\n",
              "      <th>9:99242555</th>\n",
              "      <th>9:99436311</th>\n",
              "      <th>9:99436319</th>\n",
              "      <th>9:99479500</th>\n",
              "      <th>9:99874946</th>\n",
              "      <th>9:99874971</th>\n",
              "      <th>9:99874976</th>\n",
              "      <th>9:99874986</th>\n",
              "      <th>9:99876214</th>\n",
              "      <th>9:99876329</th>\n",
              "    </tr>\n",
              "  </thead>\n",
              "  <tbody>\n",
              "    <tr>\n",
              "      <th>count</th>\n",
              "      <td>191.0</td>\n",
              "      <td>191.0</td>\n",
              "      <td>191.0</td>\n",
              "      <td>191.0</td>\n",
              "      <td>191.0</td>\n",
              "      <td>191.0</td>\n",
              "      <td>191.0</td>\n",
              "      <td>191.0</td>\n",
              "      <td>191.0</td>\n",
              "      <td>191.00</td>\n",
              "      <td>...</td>\n",
              "      <td>191.0</td>\n",
              "      <td>191.0</td>\n",
              "      <td>191.0</td>\n",
              "      <td>191.000000</td>\n",
              "      <td>191.0</td>\n",
              "      <td>191.0</td>\n",
              "      <td>191.0</td>\n",
              "      <td>191.0</td>\n",
              "      <td>191.0</td>\n",
              "      <td>191.0</td>\n",
              "    </tr>\n",
              "    <tr>\n",
              "      <th>unique</th>\n",
              "      <td>25.0</td>\n",
              "      <td>81.0</td>\n",
              "      <td>95.0</td>\n",
              "      <td>26.0</td>\n",
              "      <td>19.0</td>\n",
              "      <td>47.0</td>\n",
              "      <td>80.0</td>\n",
              "      <td>35.0</td>\n",
              "      <td>115.0</td>\n",
              "      <td>100.00</td>\n",
              "      <td>...</td>\n",
              "      <td>53.0</td>\n",
              "      <td>50.0</td>\n",
              "      <td>39.0</td>\n",
              "      <td>124.000000</td>\n",
              "      <td>77.0</td>\n",
              "      <td>110.0</td>\n",
              "      <td>91.0</td>\n",
              "      <td>93.0</td>\n",
              "      <td>43.0</td>\n",
              "      <td>41.0</td>\n",
              "    </tr>\n",
              "    <tr>\n",
              "      <th>top</th>\n",
              "      <td>0.0</td>\n",
              "      <td>1.0</td>\n",
              "      <td>1.0</td>\n",
              "      <td>0.0</td>\n",
              "      <td>0.0</td>\n",
              "      <td>0.0</td>\n",
              "      <td>0.0</td>\n",
              "      <td>0.0</td>\n",
              "      <td>1.0</td>\n",
              "      <td>0.75</td>\n",
              "      <td>...</td>\n",
              "      <td>0.0</td>\n",
              "      <td>0.0</td>\n",
              "      <td>0.0</td>\n",
              "      <td>0.264706</td>\n",
              "      <td>0.0</td>\n",
              "      <td>0.0</td>\n",
              "      <td>0.0</td>\n",
              "      <td>0.0</td>\n",
              "      <td>0.0</td>\n",
              "      <td>0.0</td>\n",
              "    </tr>\n",
              "    <tr>\n",
              "      <th>freq</th>\n",
              "      <td>147.0</td>\n",
              "      <td>46.0</td>\n",
              "      <td>32.0</td>\n",
              "      <td>148.0</td>\n",
              "      <td>171.0</td>\n",
              "      <td>124.0</td>\n",
              "      <td>53.0</td>\n",
              "      <td>142.0</td>\n",
              "      <td>23.0</td>\n",
              "      <td>11.00</td>\n",
              "      <td>...</td>\n",
              "      <td>95.0</td>\n",
              "      <td>117.0</td>\n",
              "      <td>146.0</td>\n",
              "      <td>5.000000</td>\n",
              "      <td>54.0</td>\n",
              "      <td>9.0</td>\n",
              "      <td>49.0</td>\n",
              "      <td>31.0</td>\n",
              "      <td>124.0</td>\n",
              "      <td>129.0</td>\n",
              "    </tr>\n",
              "  </tbody>\n",
              "</table>\n",
              "<p>4 rows × 17992 columns</p>\n",
              "</div>\n",
              "      <button class=\"colab-df-convert\" onclick=\"convertToInteractive('df-e14b7d17-f4fe-416b-bdec-0d1a39d11a10')\"\n",
              "              title=\"Convert this dataframe to an interactive table.\"\n",
              "              style=\"display:none;\">\n",
              "        \n",
              "  <svg xmlns=\"http://www.w3.org/2000/svg\" height=\"24px\"viewBox=\"0 0 24 24\"\n",
              "       width=\"24px\">\n",
              "    <path d=\"M0 0h24v24H0V0z\" fill=\"none\"/>\n",
              "    <path d=\"M18.56 5.44l.94 2.06.94-2.06 2.06-.94-2.06-.94-.94-2.06-.94 2.06-2.06.94zm-11 1L8.5 8.5l.94-2.06 2.06-.94-2.06-.94L8.5 2.5l-.94 2.06-2.06.94zm10 10l.94 2.06.94-2.06 2.06-.94-2.06-.94-.94-2.06-.94 2.06-2.06.94z\"/><path d=\"M17.41 7.96l-1.37-1.37c-.4-.4-.92-.59-1.43-.59-.52 0-1.04.2-1.43.59L10.3 9.45l-7.72 7.72c-.78.78-.78 2.05 0 2.83L4 21.41c.39.39.9.59 1.41.59.51 0 1.02-.2 1.41-.59l7.78-7.78 2.81-2.81c.8-.78.8-2.07 0-2.86zM5.41 20L4 18.59l7.72-7.72 1.47 1.35L5.41 20z\"/>\n",
              "  </svg>\n",
              "      </button>\n",
              "      \n",
              "  <style>\n",
              "    .colab-df-container {\n",
              "      display:flex;\n",
              "      flex-wrap:wrap;\n",
              "      gap: 12px;\n",
              "    }\n",
              "\n",
              "    .colab-df-convert {\n",
              "      background-color: #E8F0FE;\n",
              "      border: none;\n",
              "      border-radius: 50%;\n",
              "      cursor: pointer;\n",
              "      display: none;\n",
              "      fill: #1967D2;\n",
              "      height: 32px;\n",
              "      padding: 0 0 0 0;\n",
              "      width: 32px;\n",
              "    }\n",
              "\n",
              "    .colab-df-convert:hover {\n",
              "      background-color: #E2EBFA;\n",
              "      box-shadow: 0px 1px 2px rgba(60, 64, 67, 0.3), 0px 1px 3px 1px rgba(60, 64, 67, 0.15);\n",
              "      fill: #174EA6;\n",
              "    }\n",
              "\n",
              "    [theme=dark] .colab-df-convert {\n",
              "      background-color: #3B4455;\n",
              "      fill: #D2E3FC;\n",
              "    }\n",
              "\n",
              "    [theme=dark] .colab-df-convert:hover {\n",
              "      background-color: #434B5C;\n",
              "      box-shadow: 0px 1px 3px 1px rgba(0, 0, 0, 0.15);\n",
              "      filter: drop-shadow(0px 1px 2px rgba(0, 0, 0, 0.3));\n",
              "      fill: #FFFFFF;\n",
              "    }\n",
              "  </style>\n",
              "\n",
              "      <script>\n",
              "        const buttonEl =\n",
              "          document.querySelector('#df-e14b7d17-f4fe-416b-bdec-0d1a39d11a10 button.colab-df-convert');\n",
              "        buttonEl.style.display =\n",
              "          google.colab.kernel.accessAllowed ? 'block' : 'none';\n",
              "\n",
              "        async function convertToInteractive(key) {\n",
              "          const element = document.querySelector('#df-e14b7d17-f4fe-416b-bdec-0d1a39d11a10');\n",
              "          const dataTable =\n",
              "            await google.colab.kernel.invokeFunction('convertToInteractive',\n",
              "                                                     [key], {});\n",
              "          if (!dataTable) return;\n",
              "\n",
              "          const docLinkHtml = 'Like what you see? Visit the ' +\n",
              "            '<a target=\"_blank\" href=https://colab.research.google.com/notebooks/data_table.ipynb>data table notebook</a>'\n",
              "            + ' to learn more about interactive tables.';\n",
              "          element.innerHTML = '';\n",
              "          dataTable['output_type'] = 'display_data';\n",
              "          await google.colab.output.renderOutput(dataTable, element);\n",
              "          const docLink = document.createElement('div');\n",
              "          docLink.innerHTML = docLinkHtml;\n",
              "          element.appendChild(docLink);\n",
              "        }\n",
              "      </script>\n",
              "    </div>\n",
              "  </div>\n",
              "  "
            ]
          },
          "metadata": {},
          "execution_count": 5
        }
      ]
    },
    {
      "cell_type": "code",
      "source": [
        "len(list(merged.index))"
      ],
      "metadata": {
        "id": "gd6A5gcM4QVI",
        "colab": {
          "base_uri": "https://localhost:8080/"
        },
        "outputId": "063a89e5-a29b-494c-b3de-ae28559335c5"
      },
      "execution_count": 6,
      "outputs": [
        {
          "output_type": "execute_result",
          "data": {
            "text/plain": [
              "191"
            ]
          },
          "metadata": {},
          "execution_count": 6
        }
      ]
    },
    {
      "cell_type": "code",
      "source": [
        "targets = {'M00018359_41wk_Cortex.cov.gz': 41,\n",
        " 'M00018359_41wk_Heart.cov.gz': 41,\n",
        " 'M00018359_41wk_Liver.cov.gz': 41,\n",
        " 'M00018359_41wk_Lung.cov.gz': 41,\n",
        " 'M00018362_41wk_Cortex.cov.gz': 41,\n",
        " 'M00018362_41wk_Heart.cov.gz': 41,\n",
        " 'M00018362_41wk_Liver.cov.gz': 41,\n",
        " 'M00018362_41wk_Lung.cov.gz': 41,\n",
        " 'M00018363_41wk_Cortex.cov.gz': 41,\n",
        " 'M00018363_41wk_Heart.cov.gz': 41,\n",
        " 'M00018363_41wk_Liver.cov.gz': 41,\n",
        " 'M00018363_41wk_Lung.cov.gz': 41,\n",
        " 'M00018381_41wk_Cortex.cov.gz': 41,\n",
        " 'M00018381_41wk_Heart.cov.gz': 41,\n",
        " 'M00018381_41wk_Liver.cov.gz': 41,\n",
        " 'M00018381_41wk_Lung.cov.gz': 41,\n",
        " 'M00018724_27wk_Cortex.cov.gz': 27,\n",
        " 'M00018724_27wk_Heart.cov.gz': 27,\n",
        " 'M00018724_27wk_Liver.cov.gz': 27,\n",
        " 'M00018724_27wk_Lung.cov.gz': 27,\n",
        " 'M00018752_27wk_Cortex.cov.gz': 27,\n",
        " 'M00018752_27wk_Heart.cov.gz': 27,\n",
        " 'M00018752_27wk_Liver.cov.gz': 27,\n",
        " 'M00018752_27wk_Lung.cov.gz': 27,\n",
        " 'M00018754_27wk_Cortex.cov.gz': 27,\n",
        " 'M00018754_27wk_Heart.cov.gz': 27,\n",
        " 'M00018754_27wk_Liver.cov.gz': 27,\n",
        " 'M00018754_27wk_Lung.cov.gz': 27,\n",
        " 'M0112371_27wk_Cortex.cov.gz': 27,\n",
        " 'M0112371_27wk_Heart.cov.gz': 27,\n",
        " 'M0112371_27wk_Liver.cov.gz': 27,\n",
        " 'M0112371_27wk_Lung.cov.gz': 27,\n",
        " 'M01NB_1wk_Cortex.cov.gz': 1,\n",
        " 'M01NB_1wk_Heart.cov.gz': 1,\n",
        " 'M01NB_1wk_Liver.cov.gz': 1,\n",
        " 'M01NB_1wk_Lung.cov.gz': 1,\n",
        " 'M02NB_1wk_Cortex.cov.gz': 1,\n",
        " 'M02NB_1wk_Liver.cov.gz': 1,\n",
        " 'M02NB_1wk_Lung.cov.gz': 1,\n",
        " 'M03NB_1wk_Cortex.cov.gz': 1,\n",
        " 'M03NB_1wk_Heart.cov.gz': 1,\n",
        " 'M03NB_1wk_Lung.cov.gz': 1,\n",
        " 'M0420525_14wk_Cortex.cov.gz': 14,\n",
        " 'M0420525_14wk_Heart.cov.gz': 14,\n",
        " 'M0420525_14wk_Liver.cov.gz': 14,\n",
        " 'M0420525_14wk_Lung.cov.gz': 14,\n",
        " 'M0420527_14wk_Cortex.cov.gz': 14,\n",
        " 'M0420527_14wk_Heart.cov.gz': 14,\n",
        " 'M0420527_14wk_Liver.cov.gz': 14,\n",
        " 'M0420527_14wk_Lung.cov.gz': 14,\n",
        " 'M04NB_1wk_Cortex.cov.gz': 1,\n",
        " 'M04NB_1wk_Heart.cov.gz': 1,\n",
        " 'M04NB_1wk_Liver.cov.gz': 1,\n",
        " 'M04NB_1wk_Lung.cov.gz': 1,\n",
        " 'M0512375_27wk_Cortex.cov.gz': 27,\n",
        " 'M0512375_27wk_Heart.cov.gz': 27,\n",
        " 'M0512375_27wk_Liver.cov.gz': 27,\n",
        " 'M0512375_27wk_Lung.cov.gz': 27,\n",
        " 'M0520522_14wk_Cortex.cov.gz': 14,\n",
        " 'M0520522_14wk_Heart.cov.gz': 14,\n",
        " 'M0520522_14wk_Liver.cov.gz': 14,\n",
        " 'M0520522_14wk_Lung.cov.gz': 14,\n",
        " 'Reizel_2015_SRR1534514_GSM1463666_RRBS_12_Mouse_Liver_F_1w_NORMAL_Mus_musculus_Bisulfite.Seq_1_val_1_GRCm38_bismark_bt2_pe': 1,\n",
        " 'Reizel_2015_SRR1534515_GSM1463667_RRBS_15_Mouse_Liver_F_1w_NORMAL_Mus_musculus_Bisulfite.Seq_1_val_1_GRCm38_bismark_bt2_pe': 1,\n",
        " 'Reizel_2015_SRR1534516_GSM1463668_RRBS_16_Mouse_Liver_F_1w_NORMAL_Mus_musculus_Bisulfite.Seq_1_val_1_GRCm38_bismark_bt2_pe': 1,\n",
        " 'Reizel_2015_SRR1534517_GSM1463669_RRBS_17_Mouse_Liver_F_1w_NORMAL_Mus_musculus_Bisulfite.Seq_1_val_1_GRCm38_bismark_bt2_pe': 1,\n",
        " 'Reizel_2015_SRR1534518_GSM1463670_RRBS_18_Mouse_Liver_F_1w_NORMAL_Mus_musculus_Bisulfite.Seq_1_val_1_GRCm38_bismark_bt2_pe': 1,\n",
        " 'Reizel_2015_SRR1534519_GSM1463671_RRBS_22_Mouse_Liver_F_20w_NORMAL_Mus_musculus_Bisulfite.Seq_1_val_1_GRCm38_bismark_bt2_pe': 20,\n",
        " 'Reizel_2015_SRR1534523_GSM1463675_RRBS_32_Mouse_Liver_F_20w_NORMAL_Mus_musculus_Bisulfite.Seq_1_val_1_GRCm38_bismark_bt2_pe': 20,\n",
        " 'Reizel_2015_SRR1534524_GSM1463676_RRBS_33_Mouse_Liver_F_20w_NORMAL_Mus_musculus_Bisulfite.Seq_1_val_1_GRCm38_bismark_bt2_pe': 20,\n",
        " 'Reizel_2015_SRR1534529_GSM1463681_RRBS_43_Mouse_Liver_F_3w_NORMAL_Mus_musculus_Bisulfite.Seq_1_val_1_GRCm38_bismark_bt2_pe': 3,\n",
        " 'Reizel_2015_SRR1534530_GSM1463682_RRBS_44_Mouse_Liver_F_3w_NORMAL_Mus_musculus_Bisulfite.Seq_1_val_1_GRCm38_bismark_bt2_pe': 3,\n",
        " 'Reizel_2015_SRR1534531_GSM1463683_RRBS_45_Mouse_Liver_F_3w_NORMAL_Mus_musculus_Bisulfite.Seq_1_val_1_GRCm38_bismark_bt2_pe': 3,\n",
        " 'Reizel_2015_SRR1534532_GSM1463684_RRBS_46_Mouse_Liver_F_3w_NORMAL_Mus_musculus_Bisulfite.Seq_1_val_1_GRCm38_bismark_bt2_pe': 3,\n",
        " 'Reizel_2015_SRR1534533_GSM1463685_RRBS_56_Mouse_Liver_F_8w_NORMAL_Mus_musculus_Bisulfite.Seq_1_val_1_GRCm38_bismark_bt2_pe': 8,\n",
        " 'Reizel_2015_SRR1534534_GSM1463686_RRBS_57_Mouse_Liver_F_8w_NORMAL_Mus_musculus_Bisulfite.Seq_1_val_1_GRCm38_bismark_bt2_pe': 8,\n",
        " 'Reizel_2015_SRR1534535_GSM1463687_RRBS_58_Mouse_Liver_F_8w_NORMAL_Mus_musculus_Bisulfite.Seq_1_val_1_GRCm38_bismark_bt2_pe': 8,\n",
        " 'Reizel_2015_SRR1534536_GSM1463688_RRBS_59_Mouse_Liver_F_8w_NORMAL_Mus_musculus_Bisulfite.Seq_1_val_1_GRCm38_bismark_bt2_pe': 8,\n",
        " 'Reizel_2015_SRR1534537_GSM1463689_RRBS_60_Mouse_Liver_F_8w_NORMAL_Mus_musculus_Bisulfite.Seq_1_val_1_GRCm38_bismark_bt2_pe': 8,\n",
        " 'Reizel_2015_SRR1534538_GSM1463690_RRBS_13_Mouse_Liver_M_1w_NORMAL_Mus_musculus_Bisulfite.Seq_1_val_1_GRCm38_bismark_bt2_pe': 1,\n",
        " 'Reizel_2015_SRR1534539_GSM1463691_RRBS_14_Mouse_Liver_M_1w_NORMAL_Mus_musculus_Bisulfite.Seq_1_val_1_GRCm38_bismark_bt2_pe': 1,\n",
        " 'Reizel_2015_SRR1534540_GSM1463692_RRBS_19_Mouse_Liver_M_1w_NORMAL_Mus_musculus_Bisulfite.Seq_1_val_1_GRCm38_bismark_bt2_pe': 1,\n",
        " 'Reizel_2015_SRR1534541_GSM1463693_RRBS_20_Mouse_Liver_M_1w_NORMAL_Mus_musculus_Bisulfite.Seq_1_val_1_GRCm38_bismark_bt2_pe': 1,\n",
        " 'Reizel_2015_SRR1534542_GSM1463694_RRBS_21_Mouse_Liver_M_1w_NORMAL_Mus_musculus_Bisulfite.Seq_1_val_1_GRCm38_bismark_bt2_pe': 1,\n",
        " 'Reizel_2015_SRR1534543_GSM1463695_RRBS_23_Mouse_Liver_M_20w_NORMAL_Mus_musculus_Bisulfite.Seq_1_val_1_GRCm38_bismark_bt2_pe': 20,\n",
        " 'Reizel_2015_SRR1534544_GSM1463696_RRBS_24_Mouse_Liver_M_20w_NORMAL_Mus_musculus_Bisulfite.Seq_1_val_1_GRCm38_bismark_bt2_pe': 20,\n",
        " 'Reizel_2015_SRR1534552_GSM1463704_RRBS_40_Mouse_Liver_M_20w_NORMAL_Mus_musculus_Bisulfite.Seq_1_val_1_GRCm38_bismark_bt2_pe': 20,\n",
        " 'Reizel_2015_SRR1534553_GSM1463705_RRBS_42_Mouse_Liver_M_3w_NORMAL_Mus_musculus_Bisulfite.Seq_1_val_1_GRCm38_bismark_bt2_pe': 3,\n",
        " 'Reizel_2015_SRR1534554_GSM1463706_RRBS_47_Mouse_Liver_M_3w_NORMAL_Mus_musculus_Bisulfite.Seq_1_val_1_GRCm38_bismark_bt2_pe': 3,\n",
        " 'Reizel_2015_SRR1534555_GSM1463707_RRBS_48_Mouse_Liver_M_3w_NORMAL_Mus_musculus_Bisulfite.Seq_1_val_1_GRCm38_bismark_bt2_pe': 3,\n",
        " 'Reizel_2015_SRR1534556_GSM1463708_RRBS_49_Mouse_Liver_M_3w_NORMAL_Mus_musculus_Bisulfite.Seq_1_val_1_GRCm38_bismark_bt2_pe': 3,\n",
        " 'Reizel_2015_SRR1534557_GSM1463709_RRBS_50_Mouse_Liver_M_3w_NORMAL_Mus_musculus_Bisulfite.Seq_1_val_1_GRCm38_bismark_bt2_pe': 3,\n",
        " 'Reizel_2015_SRR1534558_GSM1463710_RRBS_51_Mouse_Liver_M_8w_NORMAL_Mus_musculus_Bisulfite.Seq_1_val_1_GRCm38_bismark_bt2_pe': 8,\n",
        " 'Reizel_2015_SRR1534559_GSM1463711_RRBS_52_Mouse_Liver_M_8w_NORMAL_Mus_musculus_Bisulfite.Seq_1_val_1_GRCm38_bismark_bt2_pe': 8,\n",
        " 'Reizel_2015_SRR1534560_GSM1463712_RRBS_53_Mouse_Liver_M_8w_NORMAL_Mus_musculus_Bisulfite.Seq_1_val_1_GRCm38_bismark_bt2_pe': 8,\n",
        " 'Reizel_2015_SRR1534561_GSM1463713_RRBS_54_Mouse_Liver_M_8w_NORMAL_Mus_musculus_Bisulfite.Seq_1_val_1_GRCm38_bismark_bt2_pe': 8,\n",
        " 'Reizel_2015_SRR1534562_GSM1463714_RRBS_55_Mouse_Liver_M_8w_NORMAL_Mus_musculus_Bisulfite.Seq_1_val_1_GRCm38_bismark_bt2_pe': 8,\n",
        " 'Reizel_2015_SRR1534582_GSM1463734_RRBS_112_Mouse_Liver_M_28w_old_castration_control_Mus_musculus_Bisulfite.Seq_1_val_1_GRCm38_bismark_bt2_pe': 28,\n",
        " 'Reizel_2015_SRR1534584_GSM1463736_RRBS_114_Mouse_Liver_M_31w_old_castration_control_Mus_musculus_Bisulfite.Seq_1_val_1_GRCm38_bismark_bt2_pe': 31,\n",
        " 'Reizel_2015_SRR1534585_GSM1463737_RRBS_115_Mouse_Liver_M_31w_old_castration_control_Mus_musculus_Bisulfite.Seq_1_val_1_GRCm38_bismark_bt2_pe': 31,\n",
        " 'Reizel_2015_SRR1534611_GSM1463763_RRBS_146_Mouse_Liver_M_20w_young_control_castrated_Mus_musculus_Bisulfite.Seq_1_val_1_GRCm38_bismark_bt2_pe': 20,\n",
        " 'Reizel_2015_SRR1534615_GSM1463767_RRBS_65_Mouse_Muscle_F_20w_NORMAL_Mus_musculus_Bisulfite.Seq_1_val_1_GRCm38_bismark_bt2_pe': 20,\n",
        " 'Reizel_2015_SRR1534616_GSM1463768_RRBS_66_Mouse_Muscle_F_20w_NORMAL_Mus_musculus_Bisulfite.Seq_1_val_1_GRCm38_bismark_bt2_pe': 20,\n",
        " 'Reizel_2015_SRR1534617_GSM1463769_RRBS_68_Mouse_Muscle_F_20w_NORMAL_Mus_musculus_Bisulfite.Seq_1_val_1_GRCm38_bismark_bt2_pe': 20,\n",
        " 'Reizel_2015_SRR1534618_GSM1463770_RRBS_71_Mouse_Muscle_F_20w_NORMAL_Mus_musculus_Bisulfite.Seq_1_val_1_GRCm38_bismark_bt2_pe': 20,\n",
        " 'Reizel_2015_SRR1534619_GSM1463771_RRBS_72_Mouse_Muscle_F_20w_NORMAL_Mus_musculus_Bisulfite.Seq_1_val_1_GRCm38_bismark_bt2_pe': 20,\n",
        " 'Reizel_2015_SRR1534620_GSM1463772_RRBS_75_Mouse_Muscle_F_20w_NORMAL_Mus_musculus_Bisulfite.Seq_1_val_1_GRCm38_bismark_bt2_pe': 20,\n",
        " 'Reizel_2015_SRR1534621_GSM1463773_RRBS_81_Mouse_Muscle_F_3w_NORMAL_Mus_musculus_Bisulfite.Seq_1_val_1_GRCm38_bismark_bt2_pe': 3,\n",
        " 'Reizel_2015_SRR1534623_GSM1463775_RRBS_83_Mouse_Muscle_F_3w_NORMAL_Mus_musculus_Bisulfite.Seq_1_val_1_GRCm38_bismark_bt2_pe': 3,\n",
        " 'Reizel_2015_SRR1534624_GSM1463776_RRBS_84_Mouse_Muscle_F_3w_NORMAL_Mus_musculus_Bisulfite.Seq_1_val_1_GRCm38_bismark_bt2_pe': 3,\n",
        " 'Reizel_2015_SRR1534625_GSM1463777_RRBS_85_Mouse_Muscle_F_3w_NORMAL_Mus_musculus_Bisulfite.Seq_1_val_1_GRCm38_bismark_bt2_pe': 3,\n",
        " 'Reizel_2015_SRR1534626_GSM1463778_RRBS_61_Mouse_Muscle_M_20w_NORMAL_Mus_musculus_Bisulfite.Seq_1_val_1_GRCm38_bismark_bt2_pe': 20,\n",
        " 'Reizel_2015_SRR1534627_GSM1463779_RRBS_62_Mouse_Muscle_M_20w_NORMAL_Mus_musculus_Bisulfite.Seq_1_val_1_GRCm38_bismark_bt2_pe': 20,\n",
        " 'Reizel_2015_SRR1534635_GSM1463787_RRBS_76_Mouse_Muscle_M_3w_NORMAL_Mus_musculus_Bisulfite.Seq_1_val_1_GRCm38_bismark_bt2_pe': 3,\n",
        " 'Reizel_2015_SRR1534636_GSM1463788_RRBS_77_Mouse_Muscle_M_3w_NORMAL_Mus_musculus_Bisulfite.Seq_1_val_1_GRCm38_bismark_bt2_pe': 3,\n",
        " 'Reizel_2015_SRR1534637_GSM1463789_RRBS_78_Mouse_Muscle_M_3w_NORMAL_Mus_musculus_Bisulfite.Seq_1_val_1_GRCm38_bismark_bt2_pe': 3,\n",
        " 'Reizel_2015_SRR1534638_GSM1463790_RRBS_79_Mouse_Muscle_M_3w_NORMAL_Mus_musculus_Bisulfite.Seq_1_val_1_GRCm38_bismark_bt2_pe': 3,\n",
        " 'Reizel_2015_SRR1534639_GSM1463791_RRBS_80_Mouse_Muscle_M_3w_NORMAL_Mus_musculus_Bisulfite.Seq_1_val_1_GRCm38_bismark_bt2_pe': 3,\n",
        " 'Reizel_2015_SRR1534648_GSM1463800_RRBS_153_Mouse_Muscle_M_20w_young_control_castrated_Mus_musculus_Bisulfite.Seq_1_val_1_GRCm38_bismark_bt2_pe': 20,\n",
        " 'Reizel_2015_SRR1534649_GSM1463801_RRBS_86_Mouse_Spleen_F_1w_NORMAL_Mus_musculus_Bisulfite.Seq_1_val_1_GRCm38_bismark_bt2_pe': 1,\n",
        " 'Reizel_2015_SRR1534650_GSM1463802_RRBS_88_Mouse_Spleen_F_20w_NORMAL_Mus_musculus_Bisulfite.Seq_1_val_1_GRCm38_bismark_bt2_pe': 20,\n",
        " 'Reizel_2015_SRR1534651_GSM1463803_RRBS_89_Mouse_Spleen_F_20w_NORMAL_Mus_musculus_Bisulfite.Seq_1_val_1_GRCm38_bismark_bt2_pe': 20,\n",
        " 'Reizel_2015_SRR1534652_GSM1463804_RRBS_90_Mouse_Spleen_F_20w_NORMAL_Mus_musculus_Bisulfite.Seq_1_val_1_GRCm38_bismark_bt2_pe': 20,\n",
        " 'Reizel_2015_SRR1534653_GSM1463805_RRBS_95_Mouse_Spleen_F_20w_NORMAL_Mus_musculus_Bisulfite.Seq_1_val_1_GRCm38_bismark_bt2_pe': 20,\n",
        " 'Reizel_2015_SRR1534654_GSM1463806_RRBS_87_Mouse_Spleen_M_1w_NORMAL_Mus_musculus_Bisulfite.Seq_1_val_1_GRCm38_bismark_bt2_pe': 1,\n",
        " 'Reizel_2015_SRR1534655_GSM1463807_RRBS_91_Mouse_Spleen_M_20w_NORMAL_Mus_musculus_Bisulfite.Seq_1_val_1_GRCm38_bismark_bt2_pe': 20,\n",
        " 'Reizel_2015_SRR1534656_GSM1463809_RRBS_92_Mouse_Spleen_M_20w_NORMAL_Mus_musculus_Bisulfite.Seq_1_val_1_GRCm38_bismark_bt2_pe': 20,\n",
        " 'Reizel_2015_SRR1534657_GSM1463811_RRBS_93_Mouse_Spleen_M_20w_NORMAL_Mus_musculus_Bisulfite.Seq_1_val_1_GRCm38_bismark_bt2_pe': 20,\n",
        " 'Reizel_2015_SRR1534658_GSM1463813_RRBS_94_Mouse_Spleen_M_20w_NORMAL_Mus_musculus_Bisulfite.Seq_1_val_1_GRCm38_bismark_bt2_pe': 20,\n",
        " 'Reizel_2015_SRR1534659_GSM1463815_RRBS_10_Mouse_Cerebellum_F_20w_NORMAL_Mus_musculus_Bisulfite.Seq_1_val_1_GRCm38_bismark_bt2_pe': 20,\n",
        " 'Reizel_2015_SRR1534660_GSM1463817_RRBS_11_Mouse_Cerebellum_F_20w_NORMAL_Mus_musculus_Bisulfite.Seq_1_val_1_GRCm38_bismark_bt2_pe': 20,\n",
        " 'Reizel_2015_SRR1534661_GSM1463818_RRBS_8_Mouse_Cerebellum_F_20w_NORMAL_Mus_musculus_Bisulfite.Seq_1_val_1_GRCm38_bismark_bt2_pe': 20,\n",
        " 'Reizel_2015_SRR1534662_GSM1463819_RRBS_9_Mouse_Cerebellum_F_20w_NORMAL_Mus_musculus_Bisulfite.Seq_1_val_1_GRCm38_bismark_bt2_pe': 20,\n",
        " 'Reizel_2015_SRR1534663_GSM1463820_RRBS_4_Mouse_Cerebellum_M_1w_NORMAL_Mus_musculus_Bisulfite.Seq_1_val_1_GRCm38_bismark_bt2_pe': 1,\n",
        " 'Reizel_2015_SRR1534664_GSM1463821_RRBS_5_Mouse_Cerebellum_M_1w_NORMAL_Mus_musculus_Bisulfite.Seq_1_val_1_GRCm38_bismark_bt2_pe': 1,\n",
        " 'Reizel_2015_SRR1534665_GSM1463822_RRBS_6_Mouse_Cerebellum_M_20w_NORMAL_Mus_musculus_Bisulfite.Seq_1_val_1_GRCm38_bismark_bt2_pe': 20,\n",
        " 'Reizel_2015_SRR1534666_GSM1463823_RRBS_7_Mouse_Cerebellum_M_20w_NORMAL_Mus_musculus_Bisulfite.Seq_1_val_1_GRCm38_bismark_bt2_pe': 20,\n",
        " 'Cannon_2014_SRR1028369_9wk_13_RRBS__1_trimmed_GRCm38_bismark_bt2': 9,\n",
        " 'Cannon_2014_SRR1028378_9wk_23_RRBS__1_trimmed_GRCm38_bismark_bt2': 9,\n",
        " 'Cannon_2014_SRR1028381_9wk_24_RRBS__1_trimmed_GRCm38_bismark_bt2': 9,\n",
        " 'Cannon_2014_SRR1028384_9wk_52_RRBS__1_trimmed_GRCm38_bismark_bt2': 9,\n",
        " 'Cannon_2014_SRR1028387_9wk_54_RRBS__1_trimmed_GRCm38_bismark_bt2': 9,\n",
        " 'Cannon_2014_SRR1028390_9wk_55_RRBS__1_trimmed_GRCm38_bismark_bt2': 9,\n",
        " 'Cannon_2014_SRR1028414_9wk_122_RRBS__1_trimmed_GRCm38_bismark_bt2': 9}"
      ],
      "metadata": {
        "id": "ijlyZxAQyltd"
      },
      "execution_count": null,
      "outputs": []
    },
    {
      "cell_type": "code",
      "source": [
        "t_df = pd.DataFrame(targets, index=[0]).T\n",
        "t_df.columns = ['weeks']"
      ],
      "metadata": {
        "id": "SLHh43OX10-V"
      },
      "execution_count": null,
      "outputs": []
    },
    {
      "cell_type": "code",
      "source": [
        "t_df.head()"
      ],
      "metadata": {
        "colab": {
          "base_uri": "https://localhost:8080/",
          "height": 206
        },
        "id": "UiVjd8S854YC",
        "outputId": "45a11223-45f8-4c95-d11f-7db7c8640810"
      },
      "execution_count": null,
      "outputs": [
        {
          "output_type": "execute_result",
          "data": {
            "text/plain": [
              "                              weeks\n",
              "M00018359_41wk_Cortex.cov.gz     41\n",
              "M00018359_41wk_Heart.cov.gz      41\n",
              "M00018359_41wk_Liver.cov.gz      41\n",
              "M00018359_41wk_Lung.cov.gz       41\n",
              "M00018362_41wk_Cortex.cov.gz     41"
            ],
            "text/html": [
              "\n",
              "  <div id=\"df-ad4ea1f8-7b25-45c5-b875-b24dde2d89f0\">\n",
              "    <div class=\"colab-df-container\">\n",
              "      <div>\n",
              "<style scoped>\n",
              "    .dataframe tbody tr th:only-of-type {\n",
              "        vertical-align: middle;\n",
              "    }\n",
              "\n",
              "    .dataframe tbody tr th {\n",
              "        vertical-align: top;\n",
              "    }\n",
              "\n",
              "    .dataframe thead th {\n",
              "        text-align: right;\n",
              "    }\n",
              "</style>\n",
              "<table border=\"1\" class=\"dataframe\">\n",
              "  <thead>\n",
              "    <tr style=\"text-align: right;\">\n",
              "      <th></th>\n",
              "      <th>weeks</th>\n",
              "    </tr>\n",
              "  </thead>\n",
              "  <tbody>\n",
              "    <tr>\n",
              "      <th>M00018359_41wk_Cortex.cov.gz</th>\n",
              "      <td>41</td>\n",
              "    </tr>\n",
              "    <tr>\n",
              "      <th>M00018359_41wk_Heart.cov.gz</th>\n",
              "      <td>41</td>\n",
              "    </tr>\n",
              "    <tr>\n",
              "      <th>M00018359_41wk_Liver.cov.gz</th>\n",
              "      <td>41</td>\n",
              "    </tr>\n",
              "    <tr>\n",
              "      <th>M00018359_41wk_Lung.cov.gz</th>\n",
              "      <td>41</td>\n",
              "    </tr>\n",
              "    <tr>\n",
              "      <th>M00018362_41wk_Cortex.cov.gz</th>\n",
              "      <td>41</td>\n",
              "    </tr>\n",
              "  </tbody>\n",
              "</table>\n",
              "</div>\n",
              "      <button class=\"colab-df-convert\" onclick=\"convertToInteractive('df-ad4ea1f8-7b25-45c5-b875-b24dde2d89f0')\"\n",
              "              title=\"Convert this dataframe to an interactive table.\"\n",
              "              style=\"display:none;\">\n",
              "        \n",
              "  <svg xmlns=\"http://www.w3.org/2000/svg\" height=\"24px\"viewBox=\"0 0 24 24\"\n",
              "       width=\"24px\">\n",
              "    <path d=\"M0 0h24v24H0V0z\" fill=\"none\"/>\n",
              "    <path d=\"M18.56 5.44l.94 2.06.94-2.06 2.06-.94-2.06-.94-.94-2.06-.94 2.06-2.06.94zm-11 1L8.5 8.5l.94-2.06 2.06-.94-2.06-.94L8.5 2.5l-.94 2.06-2.06.94zm10 10l.94 2.06.94-2.06 2.06-.94-2.06-.94-.94-2.06-.94 2.06-2.06.94z\"/><path d=\"M17.41 7.96l-1.37-1.37c-.4-.4-.92-.59-1.43-.59-.52 0-1.04.2-1.43.59L10.3 9.45l-7.72 7.72c-.78.78-.78 2.05 0 2.83L4 21.41c.39.39.9.59 1.41.59.51 0 1.02-.2 1.41-.59l7.78-7.78 2.81-2.81c.8-.78.8-2.07 0-2.86zM5.41 20L4 18.59l7.72-7.72 1.47 1.35L5.41 20z\"/>\n",
              "  </svg>\n",
              "      </button>\n",
              "      \n",
              "  <style>\n",
              "    .colab-df-container {\n",
              "      display:flex;\n",
              "      flex-wrap:wrap;\n",
              "      gap: 12px;\n",
              "    }\n",
              "\n",
              "    .colab-df-convert {\n",
              "      background-color: #E8F0FE;\n",
              "      border: none;\n",
              "      border-radius: 50%;\n",
              "      cursor: pointer;\n",
              "      display: none;\n",
              "      fill: #1967D2;\n",
              "      height: 32px;\n",
              "      padding: 0 0 0 0;\n",
              "      width: 32px;\n",
              "    }\n",
              "\n",
              "    .colab-df-convert:hover {\n",
              "      background-color: #E2EBFA;\n",
              "      box-shadow: 0px 1px 2px rgba(60, 64, 67, 0.3), 0px 1px 3px 1px rgba(60, 64, 67, 0.15);\n",
              "      fill: #174EA6;\n",
              "    }\n",
              "\n",
              "    [theme=dark] .colab-df-convert {\n",
              "      background-color: #3B4455;\n",
              "      fill: #D2E3FC;\n",
              "    }\n",
              "\n",
              "    [theme=dark] .colab-df-convert:hover {\n",
              "      background-color: #434B5C;\n",
              "      box-shadow: 0px 1px 3px 1px rgba(0, 0, 0, 0.15);\n",
              "      filter: drop-shadow(0px 1px 2px rgba(0, 0, 0, 0.3));\n",
              "      fill: #FFFFFF;\n",
              "    }\n",
              "  </style>\n",
              "\n",
              "      <script>\n",
              "        const buttonEl =\n",
              "          document.querySelector('#df-ad4ea1f8-7b25-45c5-b875-b24dde2d89f0 button.colab-df-convert');\n",
              "        buttonEl.style.display =\n",
              "          google.colab.kernel.accessAllowed ? 'block' : 'none';\n",
              "\n",
              "        async function convertToInteractive(key) {\n",
              "          const element = document.querySelector('#df-ad4ea1f8-7b25-45c5-b875-b24dde2d89f0');\n",
              "          const dataTable =\n",
              "            await google.colab.kernel.invokeFunction('convertToInteractive',\n",
              "                                                     [key], {});\n",
              "          if (!dataTable) return;\n",
              "\n",
              "          const docLinkHtml = 'Like what you see? Visit the ' +\n",
              "            '<a target=\"_blank\" href=https://colab.research.google.com/notebooks/data_table.ipynb>data table notebook</a>'\n",
              "            + ' to learn more about interactive tables.';\n",
              "          element.innerHTML = '';\n",
              "          dataTable['output_type'] = 'display_data';\n",
              "          await google.colab.output.renderOutput(dataTable, element);\n",
              "          const docLink = document.createElement('div');\n",
              "          docLink.innerHTML = docLinkHtml;\n",
              "          element.appendChild(docLink);\n",
              "        }\n",
              "      </script>\n",
              "    </div>\n",
              "  </div>\n",
              "  "
            ]
          },
          "metadata": {},
          "execution_count": 10
        }
      ]
    },
    {
      "cell_type": "code",
      "source": [
        "train = merged.join(t_df, how=\"right\")"
      ],
      "metadata": {
        "id": "lhnllsWn2fLE"
      },
      "execution_count": null,
      "outputs": []
    },
    {
      "cell_type": "code",
      "source": [
        "train"
      ],
      "metadata": {
        "colab": {
          "base_uri": "https://localhost:8080/",
          "height": 488
        },
        "id": "nVBbTLH63-iq",
        "outputId": "034ddc16-245d-478b-ee26-714af408948c"
      },
      "execution_count": null,
      "outputs": [
        {
          "output_type": "execute_result",
          "data": {
            "text/plain": [
              "                                                   1:10038066 1:101374410  \\\n",
              "M00018359_41wk_Cortex.cov.gz                              0.0         1.0   \n",
              "M00018359_41wk_Heart.cov.gz                          0.090909    0.952381   \n",
              "M00018359_41wk_Liver.cov.gz                               0.0         1.0   \n",
              "M00018359_41wk_Lung.cov.gz                                0.0    0.967742   \n",
              "M00018362_41wk_Cortex.cov.gz                         0.033333         1.0   \n",
              "...                                                       ...         ...   \n",
              "Cannon_2014_SRR1028381_9wk_24_RRBS__1_trimmed_G...     0.0625    0.935484   \n",
              "Cannon_2014_SRR1028384_9wk_52_RRBS__1_trimmed_G...   0.066667    0.925926   \n",
              "Cannon_2014_SRR1028387_9wk_54_RRBS__1_trimmed_G...    0.03125    0.980392   \n",
              "Cannon_2014_SRR1028390_9wk_55_RRBS__1_trimmed_G...   0.035714    0.964286   \n",
              "Cannon_2014_SRR1028414_9wk_122_RRBS__1_trimmed_...        0.0    0.918033   \n",
              "\n",
              "                                                   1:101374418 1:105356622  \\\n",
              "M00018359_41wk_Cortex.cov.gz                          0.972222         0.0   \n",
              "M00018359_41wk_Heart.cov.gz                           0.976744        0.04   \n",
              "M00018359_41wk_Liver.cov.gz                                1.0    0.083333   \n",
              "M00018359_41wk_Lung.cov.gz                            0.967742         0.0   \n",
              "M00018362_41wk_Cortex.cov.gz                          0.947368    0.034483   \n",
              "...                                                        ...         ...   \n",
              "Cannon_2014_SRR1028381_9wk_24_RRBS__1_trimmed_G...    0.870968    0.041667   \n",
              "Cannon_2014_SRR1028384_9wk_52_RRBS__1_trimmed_G...    0.962963         0.0   \n",
              "Cannon_2014_SRR1028387_9wk_54_RRBS__1_trimmed_G...    0.980392    0.046512   \n",
              "Cannon_2014_SRR1028390_9wk_55_RRBS__1_trimmed_G...         1.0    0.069767   \n",
              "Cannon_2014_SRR1028414_9wk_122_RRBS__1_trimmed_...    0.918033    0.076923   \n",
              "\n",
              "                                                   1:105356633 1:105780925  \\\n",
              "M00018359_41wk_Cortex.cov.gz                               0.0    0.035714   \n",
              "M00018359_41wk_Heart.cov.gz                                0.0    0.037037   \n",
              "M00018359_41wk_Liver.cov.gz                                0.0      0.0625   \n",
              "M00018359_41wk_Lung.cov.gz                                 0.0         0.0   \n",
              "M00018362_41wk_Cortex.cov.gz                               0.0         0.0   \n",
              "...                                                        ...         ...   \n",
              "Cannon_2014_SRR1028381_9wk_24_RRBS__1_trimmed_G...         0.0    0.102564   \n",
              "Cannon_2014_SRR1028384_9wk_52_RRBS__1_trimmed_G...         0.0     0.03125   \n",
              "Cannon_2014_SRR1028387_9wk_54_RRBS__1_trimmed_G...         0.0    0.076923   \n",
              "Cannon_2014_SRR1028390_9wk_55_RRBS__1_trimmed_G...         0.0    0.087719   \n",
              "Cannon_2014_SRR1028414_9wk_122_RRBS__1_trimmed_...         0.0    0.065789   \n",
              "\n",
              "                                                   1:106173313 1:106759301  \\\n",
              "M00018359_41wk_Cortex.cov.gz                          0.045455         0.0   \n",
              "M00018359_41wk_Heart.cov.gz                           0.043478    0.022727   \n",
              "M00018359_41wk_Liver.cov.gz                           0.210526         0.0   \n",
              "M00018359_41wk_Lung.cov.gz                            0.133333         0.0   \n",
              "M00018362_41wk_Cortex.cov.gz                          0.030303         0.0   \n",
              "...                                                        ...         ...   \n",
              "Cannon_2014_SRR1028381_9wk_24_RRBS__1_trimmed_G...    0.171429      0.0625   \n",
              "Cannon_2014_SRR1028384_9wk_52_RRBS__1_trimmed_G...    0.027027    0.057143   \n",
              "Cannon_2014_SRR1028387_9wk_54_RRBS__1_trimmed_G...    0.090909         0.0   \n",
              "Cannon_2014_SRR1028390_9wk_55_RRBS__1_trimmed_G...       0.075    0.044444   \n",
              "Cannon_2014_SRR1028414_9wk_122_RRBS__1_trimmed_...    0.030303    0.126582   \n",
              "\n",
              "                                                   1:109034542 1:110429621  \\\n",
              "M00018359_41wk_Cortex.cov.gz                          0.978261    0.935484   \n",
              "M00018359_41wk_Heart.cov.gz                           0.904762       0.625   \n",
              "M00018359_41wk_Liver.cov.gz                                1.0       0.625   \n",
              "M00018359_41wk_Lung.cov.gz                            0.989474         0.6   \n",
              "M00018362_41wk_Cortex.cov.gz                          0.981651    0.944444   \n",
              "...                                                        ...         ...   \n",
              "Cannon_2014_SRR1028381_9wk_24_RRBS__1_trimmed_G...    0.970588    0.785714   \n",
              "Cannon_2014_SRR1028384_9wk_52_RRBS__1_trimmed_G...    0.878788        0.68   \n",
              "Cannon_2014_SRR1028387_9wk_54_RRBS__1_trimmed_G...    0.947368       0.825   \n",
              "Cannon_2014_SRR1028390_9wk_55_RRBS__1_trimmed_G...         1.0    0.884615   \n",
              "Cannon_2014_SRR1028414_9wk_122_RRBS__1_trimmed_...    0.964912    0.783784   \n",
              "\n",
              "                                                    ... 9:99436311 9:99436319  \\\n",
              "M00018359_41wk_Cortex.cov.gz                        ...       0.06        0.0   \n",
              "M00018359_41wk_Heart.cov.gz                         ...   0.038462        0.0   \n",
              "M00018359_41wk_Liver.cov.gz                         ...        0.0        0.0   \n",
              "M00018359_41wk_Lung.cov.gz                          ...   0.068966        0.0   \n",
              "M00018362_41wk_Cortex.cov.gz                        ...    0.02439        0.0   \n",
              "...                                                 ...        ...        ...   \n",
              "Cannon_2014_SRR1028381_9wk_24_RRBS__1_trimmed_G...  ...        0.0        0.0   \n",
              "Cannon_2014_SRR1028384_9wk_52_RRBS__1_trimmed_G...  ...        0.0        0.0   \n",
              "Cannon_2014_SRR1028387_9wk_54_RRBS__1_trimmed_G...  ...        0.1        0.0   \n",
              "Cannon_2014_SRR1028390_9wk_55_RRBS__1_trimmed_G...  ...        0.0        0.0   \n",
              "Cannon_2014_SRR1028414_9wk_122_RRBS__1_trimmed_...  ...       0.05        0.0   \n",
              "\n",
              "                                                   9:99479500 9:99874946  \\\n",
              "M00018359_41wk_Cortex.cov.gz                         0.104167   0.057143   \n",
              "M00018359_41wk_Heart.cov.gz                          0.076923   0.071429   \n",
              "M00018359_41wk_Liver.cov.gz                          0.083333        0.0   \n",
              "M00018359_41wk_Lung.cov.gz                           0.314286   0.066667   \n",
              "M00018362_41wk_Cortex.cov.gz                         0.133333   0.058824   \n",
              "...                                                       ...        ...   \n",
              "Cannon_2014_SRR1028381_9wk_24_RRBS__1_trimmed_G...        0.4        0.0   \n",
              "Cannon_2014_SRR1028384_9wk_52_RRBS__1_trimmed_G...   0.413793   0.076923   \n",
              "Cannon_2014_SRR1028387_9wk_54_RRBS__1_trimmed_G...   0.317073   0.054054   \n",
              "Cannon_2014_SRR1028390_9wk_55_RRBS__1_trimmed_G...   0.571429     0.0625   \n",
              "Cannon_2014_SRR1028414_9wk_122_RRBS__1_trimmed_...   0.305085      0.025   \n",
              "\n",
              "                                                   9:99874971 9:99874976  \\\n",
              "M00018359_41wk_Cortex.cov.gz                         0.138889   0.027778   \n",
              "M00018359_41wk_Heart.cov.gz                          0.103448   0.068966   \n",
              "M00018359_41wk_Liver.cov.gz                          0.285714        0.0   \n",
              "M00018359_41wk_Lung.cov.gz                           0.354839   0.129032   \n",
              "M00018362_41wk_Cortex.cov.gz                         0.176471   0.117647   \n",
              "...                                                       ...        ...   \n",
              "Cannon_2014_SRR1028381_9wk_24_RRBS__1_trimmed_G...   0.115385   0.076923   \n",
              "Cannon_2014_SRR1028384_9wk_52_RRBS__1_trimmed_G...   0.179487   0.153846   \n",
              "Cannon_2014_SRR1028387_9wk_54_RRBS__1_trimmed_G...   0.282051   0.051282   \n",
              "Cannon_2014_SRR1028390_9wk_55_RRBS__1_trimmed_G...     0.1875        0.0   \n",
              "Cannon_2014_SRR1028414_9wk_122_RRBS__1_trimmed_...   0.320988   0.148148   \n",
              "\n",
              "                                                   9:99874986 9:99876214  \\\n",
              "M00018359_41wk_Cortex.cov.gz                         0.083333   0.037037   \n",
              "M00018359_41wk_Heart.cov.gz                               0.0        0.0   \n",
              "M00018359_41wk_Liver.cov.gz                          0.285714        0.0   \n",
              "M00018359_41wk_Lung.cov.gz                           0.129032        0.0   \n",
              "M00018362_41wk_Cortex.cov.gz                         0.058824       0.02   \n",
              "...                                                       ...        ...   \n",
              "Cannon_2014_SRR1028381_9wk_24_RRBS__1_trimmed_G...   0.038462   0.129032   \n",
              "Cannon_2014_SRR1028384_9wk_52_RRBS__1_trimmed_G...   0.051282   0.085714   \n",
              "Cannon_2014_SRR1028387_9wk_54_RRBS__1_trimmed_G...   0.026316   0.045455   \n",
              "Cannon_2014_SRR1028390_9wk_55_RRBS__1_trimmed_G...      0.125   0.086957   \n",
              "Cannon_2014_SRR1028414_9wk_122_RRBS__1_trimmed_...   0.024691        0.0   \n",
              "\n",
              "                                                   9:99876329 weeks  \n",
              "M00018359_41wk_Cortex.cov.gz                         0.020833    41  \n",
              "M00018359_41wk_Heart.cov.gz                               0.0    41  \n",
              "M00018359_41wk_Liver.cov.gz                               0.0    41  \n",
              "M00018359_41wk_Lung.cov.gz                                0.0    41  \n",
              "M00018362_41wk_Cortex.cov.gz                              0.0    41  \n",
              "...                                                       ...   ...  \n",
              "Cannon_2014_SRR1028381_9wk_24_RRBS__1_trimmed_G...   0.034483     9  \n",
              "Cannon_2014_SRR1028384_9wk_52_RRBS__1_trimmed_G...        0.0     9  \n",
              "Cannon_2014_SRR1028387_9wk_54_RRBS__1_trimmed_G...   0.096774     9  \n",
              "Cannon_2014_SRR1028390_9wk_55_RRBS__1_trimmed_G...   0.173913     9  \n",
              "Cannon_2014_SRR1028414_9wk_122_RRBS__1_trimmed_...   0.065217     9  \n",
              "\n",
              "[144 rows x 17993 columns]"
            ],
            "text/html": [
              "\n",
              "  <div id=\"df-41e9ff56-62da-47a9-87e3-1ba97c224464\">\n",
              "    <div class=\"colab-df-container\">\n",
              "      <div>\n",
              "<style scoped>\n",
              "    .dataframe tbody tr th:only-of-type {\n",
              "        vertical-align: middle;\n",
              "    }\n",
              "\n",
              "    .dataframe tbody tr th {\n",
              "        vertical-align: top;\n",
              "    }\n",
              "\n",
              "    .dataframe thead th {\n",
              "        text-align: right;\n",
              "    }\n",
              "</style>\n",
              "<table border=\"1\" class=\"dataframe\">\n",
              "  <thead>\n",
              "    <tr style=\"text-align: right;\">\n",
              "      <th></th>\n",
              "      <th>1:10038066</th>\n",
              "      <th>1:101374410</th>\n",
              "      <th>1:101374418</th>\n",
              "      <th>1:105356622</th>\n",
              "      <th>1:105356633</th>\n",
              "      <th>1:105780925</th>\n",
              "      <th>1:106173313</th>\n",
              "      <th>1:106759301</th>\n",
              "      <th>1:109034542</th>\n",
              "      <th>1:110429621</th>\n",
              "      <th>...</th>\n",
              "      <th>9:99436311</th>\n",
              "      <th>9:99436319</th>\n",
              "      <th>9:99479500</th>\n",
              "      <th>9:99874946</th>\n",
              "      <th>9:99874971</th>\n",
              "      <th>9:99874976</th>\n",
              "      <th>9:99874986</th>\n",
              "      <th>9:99876214</th>\n",
              "      <th>9:99876329</th>\n",
              "      <th>weeks</th>\n",
              "    </tr>\n",
              "  </thead>\n",
              "  <tbody>\n",
              "    <tr>\n",
              "      <th>M00018359_41wk_Cortex.cov.gz</th>\n",
              "      <td>0.0</td>\n",
              "      <td>1.0</td>\n",
              "      <td>0.972222</td>\n",
              "      <td>0.0</td>\n",
              "      <td>0.0</td>\n",
              "      <td>0.035714</td>\n",
              "      <td>0.045455</td>\n",
              "      <td>0.0</td>\n",
              "      <td>0.978261</td>\n",
              "      <td>0.935484</td>\n",
              "      <td>...</td>\n",
              "      <td>0.06</td>\n",
              "      <td>0.0</td>\n",
              "      <td>0.104167</td>\n",
              "      <td>0.057143</td>\n",
              "      <td>0.138889</td>\n",
              "      <td>0.027778</td>\n",
              "      <td>0.083333</td>\n",
              "      <td>0.037037</td>\n",
              "      <td>0.020833</td>\n",
              "      <td>41</td>\n",
              "    </tr>\n",
              "    <tr>\n",
              "      <th>M00018359_41wk_Heart.cov.gz</th>\n",
              "      <td>0.090909</td>\n",
              "      <td>0.952381</td>\n",
              "      <td>0.976744</td>\n",
              "      <td>0.04</td>\n",
              "      <td>0.0</td>\n",
              "      <td>0.037037</td>\n",
              "      <td>0.043478</td>\n",
              "      <td>0.022727</td>\n",
              "      <td>0.904762</td>\n",
              "      <td>0.625</td>\n",
              "      <td>...</td>\n",
              "      <td>0.038462</td>\n",
              "      <td>0.0</td>\n",
              "      <td>0.076923</td>\n",
              "      <td>0.071429</td>\n",
              "      <td>0.103448</td>\n",
              "      <td>0.068966</td>\n",
              "      <td>0.0</td>\n",
              "      <td>0.0</td>\n",
              "      <td>0.0</td>\n",
              "      <td>41</td>\n",
              "    </tr>\n",
              "    <tr>\n",
              "      <th>M00018359_41wk_Liver.cov.gz</th>\n",
              "      <td>0.0</td>\n",
              "      <td>1.0</td>\n",
              "      <td>1.0</td>\n",
              "      <td>0.083333</td>\n",
              "      <td>0.0</td>\n",
              "      <td>0.0625</td>\n",
              "      <td>0.210526</td>\n",
              "      <td>0.0</td>\n",
              "      <td>1.0</td>\n",
              "      <td>0.625</td>\n",
              "      <td>...</td>\n",
              "      <td>0.0</td>\n",
              "      <td>0.0</td>\n",
              "      <td>0.083333</td>\n",
              "      <td>0.0</td>\n",
              "      <td>0.285714</td>\n",
              "      <td>0.0</td>\n",
              "      <td>0.285714</td>\n",
              "      <td>0.0</td>\n",
              "      <td>0.0</td>\n",
              "      <td>41</td>\n",
              "    </tr>\n",
              "    <tr>\n",
              "      <th>M00018359_41wk_Lung.cov.gz</th>\n",
              "      <td>0.0</td>\n",
              "      <td>0.967742</td>\n",
              "      <td>0.967742</td>\n",
              "      <td>0.0</td>\n",
              "      <td>0.0</td>\n",
              "      <td>0.0</td>\n",
              "      <td>0.133333</td>\n",
              "      <td>0.0</td>\n",
              "      <td>0.989474</td>\n",
              "      <td>0.6</td>\n",
              "      <td>...</td>\n",
              "      <td>0.068966</td>\n",
              "      <td>0.0</td>\n",
              "      <td>0.314286</td>\n",
              "      <td>0.066667</td>\n",
              "      <td>0.354839</td>\n",
              "      <td>0.129032</td>\n",
              "      <td>0.129032</td>\n",
              "      <td>0.0</td>\n",
              "      <td>0.0</td>\n",
              "      <td>41</td>\n",
              "    </tr>\n",
              "    <tr>\n",
              "      <th>M00018362_41wk_Cortex.cov.gz</th>\n",
              "      <td>0.033333</td>\n",
              "      <td>1.0</td>\n",
              "      <td>0.947368</td>\n",
              "      <td>0.034483</td>\n",
              "      <td>0.0</td>\n",
              "      <td>0.0</td>\n",
              "      <td>0.030303</td>\n",
              "      <td>0.0</td>\n",
              "      <td>0.981651</td>\n",
              "      <td>0.944444</td>\n",
              "      <td>...</td>\n",
              "      <td>0.02439</td>\n",
              "      <td>0.0</td>\n",
              "      <td>0.133333</td>\n",
              "      <td>0.058824</td>\n",
              "      <td>0.176471</td>\n",
              "      <td>0.117647</td>\n",
              "      <td>0.058824</td>\n",
              "      <td>0.02</td>\n",
              "      <td>0.0</td>\n",
              "      <td>41</td>\n",
              "    </tr>\n",
              "    <tr>\n",
              "      <th>...</th>\n",
              "      <td>...</td>\n",
              "      <td>...</td>\n",
              "      <td>...</td>\n",
              "      <td>...</td>\n",
              "      <td>...</td>\n",
              "      <td>...</td>\n",
              "      <td>...</td>\n",
              "      <td>...</td>\n",
              "      <td>...</td>\n",
              "      <td>...</td>\n",
              "      <td>...</td>\n",
              "      <td>...</td>\n",
              "      <td>...</td>\n",
              "      <td>...</td>\n",
              "      <td>...</td>\n",
              "      <td>...</td>\n",
              "      <td>...</td>\n",
              "      <td>...</td>\n",
              "      <td>...</td>\n",
              "      <td>...</td>\n",
              "      <td>...</td>\n",
              "    </tr>\n",
              "    <tr>\n",
              "      <th>Cannon_2014_SRR1028381_9wk_24_RRBS__1_trimmed_GRCm38_bismark_bt2</th>\n",
              "      <td>0.0625</td>\n",
              "      <td>0.935484</td>\n",
              "      <td>0.870968</td>\n",
              "      <td>0.041667</td>\n",
              "      <td>0.0</td>\n",
              "      <td>0.102564</td>\n",
              "      <td>0.171429</td>\n",
              "      <td>0.0625</td>\n",
              "      <td>0.970588</td>\n",
              "      <td>0.785714</td>\n",
              "      <td>...</td>\n",
              "      <td>0.0</td>\n",
              "      <td>0.0</td>\n",
              "      <td>0.4</td>\n",
              "      <td>0.0</td>\n",
              "      <td>0.115385</td>\n",
              "      <td>0.076923</td>\n",
              "      <td>0.038462</td>\n",
              "      <td>0.129032</td>\n",
              "      <td>0.034483</td>\n",
              "      <td>9</td>\n",
              "    </tr>\n",
              "    <tr>\n",
              "      <th>Cannon_2014_SRR1028384_9wk_52_RRBS__1_trimmed_GRCm38_bismark_bt2</th>\n",
              "      <td>0.066667</td>\n",
              "      <td>0.925926</td>\n",
              "      <td>0.962963</td>\n",
              "      <td>0.0</td>\n",
              "      <td>0.0</td>\n",
              "      <td>0.03125</td>\n",
              "      <td>0.027027</td>\n",
              "      <td>0.057143</td>\n",
              "      <td>0.878788</td>\n",
              "      <td>0.68</td>\n",
              "      <td>...</td>\n",
              "      <td>0.0</td>\n",
              "      <td>0.0</td>\n",
              "      <td>0.413793</td>\n",
              "      <td>0.076923</td>\n",
              "      <td>0.179487</td>\n",
              "      <td>0.153846</td>\n",
              "      <td>0.051282</td>\n",
              "      <td>0.085714</td>\n",
              "      <td>0.0</td>\n",
              "      <td>9</td>\n",
              "    </tr>\n",
              "    <tr>\n",
              "      <th>Cannon_2014_SRR1028387_9wk_54_RRBS__1_trimmed_GRCm38_bismark_bt2</th>\n",
              "      <td>0.03125</td>\n",
              "      <td>0.980392</td>\n",
              "      <td>0.980392</td>\n",
              "      <td>0.046512</td>\n",
              "      <td>0.0</td>\n",
              "      <td>0.076923</td>\n",
              "      <td>0.090909</td>\n",
              "      <td>0.0</td>\n",
              "      <td>0.947368</td>\n",
              "      <td>0.825</td>\n",
              "      <td>...</td>\n",
              "      <td>0.1</td>\n",
              "      <td>0.0</td>\n",
              "      <td>0.317073</td>\n",
              "      <td>0.054054</td>\n",
              "      <td>0.282051</td>\n",
              "      <td>0.051282</td>\n",
              "      <td>0.026316</td>\n",
              "      <td>0.045455</td>\n",
              "      <td>0.096774</td>\n",
              "      <td>9</td>\n",
              "    </tr>\n",
              "    <tr>\n",
              "      <th>Cannon_2014_SRR1028390_9wk_55_RRBS__1_trimmed_GRCm38_bismark_bt2</th>\n",
              "      <td>0.035714</td>\n",
              "      <td>0.964286</td>\n",
              "      <td>1.0</td>\n",
              "      <td>0.069767</td>\n",
              "      <td>0.0</td>\n",
              "      <td>0.087719</td>\n",
              "      <td>0.075</td>\n",
              "      <td>0.044444</td>\n",
              "      <td>1.0</td>\n",
              "      <td>0.884615</td>\n",
              "      <td>...</td>\n",
              "      <td>0.0</td>\n",
              "      <td>0.0</td>\n",
              "      <td>0.571429</td>\n",
              "      <td>0.0625</td>\n",
              "      <td>0.1875</td>\n",
              "      <td>0.0</td>\n",
              "      <td>0.125</td>\n",
              "      <td>0.086957</td>\n",
              "      <td>0.173913</td>\n",
              "      <td>9</td>\n",
              "    </tr>\n",
              "    <tr>\n",
              "      <th>Cannon_2014_SRR1028414_9wk_122_RRBS__1_trimmed_GRCm38_bismark_bt2</th>\n",
              "      <td>0.0</td>\n",
              "      <td>0.918033</td>\n",
              "      <td>0.918033</td>\n",
              "      <td>0.076923</td>\n",
              "      <td>0.0</td>\n",
              "      <td>0.065789</td>\n",
              "      <td>0.030303</td>\n",
              "      <td>0.126582</td>\n",
              "      <td>0.964912</td>\n",
              "      <td>0.783784</td>\n",
              "      <td>...</td>\n",
              "      <td>0.05</td>\n",
              "      <td>0.0</td>\n",
              "      <td>0.305085</td>\n",
              "      <td>0.025</td>\n",
              "      <td>0.320988</td>\n",
              "      <td>0.148148</td>\n",
              "      <td>0.024691</td>\n",
              "      <td>0.0</td>\n",
              "      <td>0.065217</td>\n",
              "      <td>9</td>\n",
              "    </tr>\n",
              "  </tbody>\n",
              "</table>\n",
              "<p>144 rows × 17993 columns</p>\n",
              "</div>\n",
              "      <button class=\"colab-df-convert\" onclick=\"convertToInteractive('df-41e9ff56-62da-47a9-87e3-1ba97c224464')\"\n",
              "              title=\"Convert this dataframe to an interactive table.\"\n",
              "              style=\"display:none;\">\n",
              "        \n",
              "  <svg xmlns=\"http://www.w3.org/2000/svg\" height=\"24px\"viewBox=\"0 0 24 24\"\n",
              "       width=\"24px\">\n",
              "    <path d=\"M0 0h24v24H0V0z\" fill=\"none\"/>\n",
              "    <path d=\"M18.56 5.44l.94 2.06.94-2.06 2.06-.94-2.06-.94-.94-2.06-.94 2.06-2.06.94zm-11 1L8.5 8.5l.94-2.06 2.06-.94-2.06-.94L8.5 2.5l-.94 2.06-2.06.94zm10 10l.94 2.06.94-2.06 2.06-.94-2.06-.94-.94-2.06-.94 2.06-2.06.94z\"/><path d=\"M17.41 7.96l-1.37-1.37c-.4-.4-.92-.59-1.43-.59-.52 0-1.04.2-1.43.59L10.3 9.45l-7.72 7.72c-.78.78-.78 2.05 0 2.83L4 21.41c.39.39.9.59 1.41.59.51 0 1.02-.2 1.41-.59l7.78-7.78 2.81-2.81c.8-.78.8-2.07 0-2.86zM5.41 20L4 18.59l7.72-7.72 1.47 1.35L5.41 20z\"/>\n",
              "  </svg>\n",
              "      </button>\n",
              "      \n",
              "  <style>\n",
              "    .colab-df-container {\n",
              "      display:flex;\n",
              "      flex-wrap:wrap;\n",
              "      gap: 12px;\n",
              "    }\n",
              "\n",
              "    .colab-df-convert {\n",
              "      background-color: #E8F0FE;\n",
              "      border: none;\n",
              "      border-radius: 50%;\n",
              "      cursor: pointer;\n",
              "      display: none;\n",
              "      fill: #1967D2;\n",
              "      height: 32px;\n",
              "      padding: 0 0 0 0;\n",
              "      width: 32px;\n",
              "    }\n",
              "\n",
              "    .colab-df-convert:hover {\n",
              "      background-color: #E2EBFA;\n",
              "      box-shadow: 0px 1px 2px rgba(60, 64, 67, 0.3), 0px 1px 3px 1px rgba(60, 64, 67, 0.15);\n",
              "      fill: #174EA6;\n",
              "    }\n",
              "\n",
              "    [theme=dark] .colab-df-convert {\n",
              "      background-color: #3B4455;\n",
              "      fill: #D2E3FC;\n",
              "    }\n",
              "\n",
              "    [theme=dark] .colab-df-convert:hover {\n",
              "      background-color: #434B5C;\n",
              "      box-shadow: 0px 1px 3px 1px rgba(0, 0, 0, 0.15);\n",
              "      filter: drop-shadow(0px 1px 2px rgba(0, 0, 0, 0.3));\n",
              "      fill: #FFFFFF;\n",
              "    }\n",
              "  </style>\n",
              "\n",
              "      <script>\n",
              "        const buttonEl =\n",
              "          document.querySelector('#df-41e9ff56-62da-47a9-87e3-1ba97c224464 button.colab-df-convert');\n",
              "        buttonEl.style.display =\n",
              "          google.colab.kernel.accessAllowed ? 'block' : 'none';\n",
              "\n",
              "        async function convertToInteractive(key) {\n",
              "          const element = document.querySelector('#df-41e9ff56-62da-47a9-87e3-1ba97c224464');\n",
              "          const dataTable =\n",
              "            await google.colab.kernel.invokeFunction('convertToInteractive',\n",
              "                                                     [key], {});\n",
              "          if (!dataTable) return;\n",
              "\n",
              "          const docLinkHtml = 'Like what you see? Visit the ' +\n",
              "            '<a target=\"_blank\" href=https://colab.research.google.com/notebooks/data_table.ipynb>data table notebook</a>'\n",
              "            + ' to learn more about interactive tables.';\n",
              "          element.innerHTML = '';\n",
              "          dataTable['output_type'] = 'display_data';\n",
              "          await google.colab.output.renderOutput(dataTable, element);\n",
              "          const docLink = document.createElement('div');\n",
              "          docLink.innerHTML = docLinkHtml;\n",
              "          element.appendChild(docLink);\n",
              "        }\n",
              "      </script>\n",
              "    </div>\n",
              "  </div>\n",
              "  "
            ]
          },
          "metadata": {},
          "execution_count": 12
        }
      ]
    },
    {
      "cell_type": "code",
      "source": [
        "len(train)"
      ],
      "metadata": {
        "colab": {
          "base_uri": "https://localhost:8080/"
        },
        "id": "D3YZ3-Ji4UMH",
        "outputId": "5a765e61-0cd7-465e-ea22-99c52a9c5fab"
      },
      "execution_count": null,
      "outputs": [
        {
          "output_type": "execute_result",
          "data": {
            "text/plain": [
              "144"
            ]
          },
          "metadata": {},
          "execution_count": 73
        }
      ]
    },
    {
      "cell_type": "code",
      "source": [
        "train.isnull().any().any()"
      ],
      "metadata": {
        "colab": {
          "base_uri": "https://localhost:8080/"
        },
        "id": "7qJtusQ49WCP",
        "outputId": "276af1fb-3fc0-480b-cc24-9c754da033ce"
      },
      "execution_count": null,
      "outputs": [
        {
          "output_type": "execute_result",
          "data": {
            "text/plain": [
              "False"
            ]
          },
          "metadata": {},
          "execution_count": 13
        }
      ]
    },
    {
      "cell_type": "code",
      "source": [
        "y = train.pop(\"weeks\")\n",
        "X = train"
      ],
      "metadata": {
        "id": "ByxoUGP78TOs"
      },
      "execution_count": null,
      "outputs": []
    },
    {
      "cell_type": "code",
      "source": [
        "len(X)"
      ],
      "metadata": {
        "id": "j785y0xcLbZV",
        "colab": {
          "base_uri": "https://localhost:8080/"
        },
        "outputId": "9f0780af-3240-4907-f004-a1995ab509d0"
      },
      "execution_count": null,
      "outputs": [
        {
          "output_type": "execute_result",
          "data": {
            "text/plain": [
              "144"
            ]
          },
          "metadata": {},
          "execution_count": 68
        }
      ]
    },
    {
      "cell_type": "code",
      "source": [
        "from sklearn.model_selection import train_test_split\n",
        "from sklearn.preprocessing import quantile_transform\n",
        "from sklearn.preprocessing import StandardScaler\n",
        "\n",
        "X_train, X_test, y_train, y_test = train_test_split( X, y, test_size=0.2)"
      ],
      "metadata": {
        "id": "EJPCDPBm4Z3H"
      },
      "execution_count": null,
      "outputs": []
    },
    {
      "cell_type": "code",
      "source": [
        "import numpy as np\n",
        "\n",
        "y_train = np.log(y_train)\n",
        "y_test = np.log(y_test)"
      ],
      "metadata": {
        "id": "MxbGQQQPLcC3"
      },
      "execution_count": null,
      "outputs": []
    },
    {
      "cell_type": "code",
      "source": [
        "X_train = quantile_transform(X_train, n_quantiles=10, random_state=0)"
      ],
      "metadata": {
        "id": "uwHwv_C1J9V7"
      },
      "execution_count": null,
      "outputs": []
    },
    {
      "cell_type": "code",
      "source": [
        "X_test = quantile_transform(X_test, n_quantiles=10, random_state=0)"
      ],
      "metadata": {
        "id": "8xz2JHIiKN8z",
        "colab": {
          "base_uri": "https://localhost:8080/"
        },
        "outputId": "faa2e37b-162c-4572-af48-826187690bd7"
      },
      "execution_count": null,
      "outputs": [
        {
          "output_type": "stream",
          "name": "stderr",
          "text": [
            "/usr/local/lib/python3.7/dist-packages/sklearn/preprocessing/_data.py:2593: UserWarning: n_quantiles (10) is greater than the total number of samples (1). n_quantiles is set to n_samples.\n",
            "  \"n_samples.\" % (self.n_quantiles, n_samples)\n"
          ]
        }
      ]
    },
    {
      "cell_type": "code",
      "source": [
        "scaler = StandardScaler()"
      ],
      "metadata": {
        "id": "5VU7yo56KtkU"
      },
      "execution_count": null,
      "outputs": []
    },
    {
      "cell_type": "code",
      "source": [
        "sc = scaler.fit(X)"
      ],
      "metadata": {
        "id": "UOGUIF0rKvgV"
      },
      "execution_count": null,
      "outputs": []
    },
    {
      "cell_type": "code",
      "source": [
        "X_train = sc.transform(X_train)"
      ],
      "metadata": {
        "colab": {
          "base_uri": "https://localhost:8080/"
        },
        "id": "5ztE2gP6Kyrl",
        "outputId": "52541c78-2324-4d7e-8f87-08df34bc7acd"
      },
      "execution_count": null,
      "outputs": [
        {
          "output_type": "stream",
          "name": "stderr",
          "text": [
            "/usr/local/lib/python3.7/dist-packages/sklearn/base.py:451: UserWarning: X does not have valid feature names, but StandardScaler was fitted with feature names\n",
            "  \"X does not have valid feature names, but\"\n"
          ]
        }
      ]
    },
    {
      "cell_type": "code",
      "source": [
        "X_test = sc.transform(X_test)"
      ],
      "metadata": {
        "colab": {
          "base_uri": "https://localhost:8080/"
        },
        "id": "8oKw-ItjK3Pj",
        "outputId": "6b73e17e-991e-447c-8a73-1ef732abf217"
      },
      "execution_count": null,
      "outputs": [
        {
          "output_type": "stream",
          "name": "stderr",
          "text": [
            "/usr/local/lib/python3.7/dist-packages/sklearn/base.py:451: UserWarning: X does not have valid feature names, but StandardScaler was fitted with feature names\n",
            "  \"X does not have valid feature names, but\"\n"
          ]
        }
      ]
    },
    {
      "cell_type": "code",
      "source": [
        "from sklearn import linear_model\n",
        "from sklearn.linear_model import ElasticNet\n"
      ],
      "metadata": {
        "id": "LYZ_dXf-8ub4"
      },
      "execution_count": null,
      "outputs": []
    },
    {
      "cell_type": "code",
      "source": [
        "reg = ElasticNet().fit(X_train, y_train)"
      ],
      "metadata": {
        "id": "MZEYSPdN86pA"
      },
      "execution_count": null,
      "outputs": []
    },
    {
      "cell_type": "code",
      "source": [
        "reg.score(X_train, y_train)"
      ],
      "metadata": {
        "colab": {
          "base_uri": "https://localhost:8080/"
        },
        "id": "GpQ9MFSA92c8",
        "outputId": "9f577819-6ed1-4605-b24c-341ef3ad5a91"
      },
      "execution_count": null,
      "outputs": [
        {
          "output_type": "execute_result",
          "data": {
            "text/plain": [
              "0.9918639997134372"
            ]
          },
          "metadata": {},
          "execution_count": 103
        }
      ]
    },
    {
      "cell_type": "code",
      "source": [
        "from sklearn.model_selection import cross_validate"
      ],
      "metadata": {
        "id": "3Ug34QHN6DEL"
      },
      "execution_count": null,
      "outputs": []
    },
    {
      "cell_type": "code",
      "source": [
        "elastic = ElasticNet()\n",
        "cv_results = cross_validate(elastic, X_train, y_train, cv=3, scoring=\"neg_mean_squared_error\", return_train_score=True)"
      ],
      "metadata": {
        "id": "m0t6a4mp6ER7"
      },
      "execution_count": null,
      "outputs": []
    },
    {
      "cell_type": "code",
      "source": [
        "cv_results"
      ],
      "metadata": {
        "colab": {
          "base_uri": "https://localhost:8080/"
        },
        "id": "QaCKa9S87InH",
        "outputId": "a7bf679c-0058-4179-dd58-0013f7357926"
      },
      "execution_count": null,
      "outputs": [
        {
          "output_type": "execute_result",
          "data": {
            "text/plain": [
              "{'fit_time': array([1.15619445, 0.93173218, 0.80534363]),\n",
              " 'score_time': array([0.00373363, 0.00393844, 0.00220823]),\n",
              " 'test_score': array([-1.30624249, -1.79040421, -2.40683356]),\n",
              " 'train_score': array([-0.00723045, -0.00705216, -0.00844061])}"
            ]
          },
          "metadata": {},
          "execution_count": 106
        }
      ]
    },
    {
      "cell_type": "code",
      "source": [
        "sorted(sklearn.metrics.SCORERS.keys())\n"
      ],
      "metadata": {
        "colab": {
          "base_uri": "https://localhost:8080/"
        },
        "id": "Om2K9j0B6EZI",
        "outputId": "2d57c9d7-bc6d-430b-a9bd-610b496b8de1"
      },
      "execution_count": null,
      "outputs": [
        {
          "output_type": "execute_result",
          "data": {
            "text/plain": [
              "['accuracy',\n",
              " 'adjusted_mutual_info_score',\n",
              " 'adjusted_rand_score',\n",
              " 'average_precision',\n",
              " 'balanced_accuracy',\n",
              " 'completeness_score',\n",
              " 'explained_variance',\n",
              " 'f1',\n",
              " 'f1_macro',\n",
              " 'f1_micro',\n",
              " 'f1_samples',\n",
              " 'f1_weighted',\n",
              " 'fowlkes_mallows_score',\n",
              " 'homogeneity_score',\n",
              " 'jaccard',\n",
              " 'jaccard_macro',\n",
              " 'jaccard_micro',\n",
              " 'jaccard_samples',\n",
              " 'jaccard_weighted',\n",
              " 'max_error',\n",
              " 'mutual_info_score',\n",
              " 'neg_brier_score',\n",
              " 'neg_log_loss',\n",
              " 'neg_mean_absolute_error',\n",
              " 'neg_mean_absolute_percentage_error',\n",
              " 'neg_mean_gamma_deviance',\n",
              " 'neg_mean_poisson_deviance',\n",
              " 'neg_mean_squared_error',\n",
              " 'neg_mean_squared_log_error',\n",
              " 'neg_median_absolute_error',\n",
              " 'neg_root_mean_squared_error',\n",
              " 'normalized_mutual_info_score',\n",
              " 'precision',\n",
              " 'precision_macro',\n",
              " 'precision_micro',\n",
              " 'precision_samples',\n",
              " 'precision_weighted',\n",
              " 'r2',\n",
              " 'rand_score',\n",
              " 'recall',\n",
              " 'recall_macro',\n",
              " 'recall_micro',\n",
              " 'recall_samples',\n",
              " 'recall_weighted',\n",
              " 'roc_auc',\n",
              " 'roc_auc_ovo',\n",
              " 'roc_auc_ovo_weighted',\n",
              " 'roc_auc_ovr',\n",
              " 'roc_auc_ovr_weighted',\n",
              " 'top_k_accuracy',\n",
              " 'v_measure_score']"
            ]
          },
          "metadata": {},
          "execution_count": 107
        }
      ]
    },
    {
      "cell_type": "code",
      "source": [
        "y_pred = reg.predict(X_test)\n"
      ],
      "metadata": {
        "id": "JC33cUyU-Jwj"
      },
      "execution_count": null,
      "outputs": []
    },
    {
      "cell_type": "code",
      "source": [
        "y_pred"
      ],
      "metadata": {
        "colab": {
          "base_uri": "https://localhost:8080/"
        },
        "id": "nSOlb6O3_tcJ",
        "outputId": "a44027f0-59a7-4ca9-9a1d-f27cd6d9ef22"
      },
      "execution_count": null,
      "outputs": [
        {
          "output_type": "execute_result",
          "data": {
            "text/plain": [
              "array([2.44919516])"
            ]
          },
          "metadata": {},
          "execution_count": 109
        }
      ]
    },
    {
      "cell_type": "code",
      "source": [
        "from sklearn.metrics import mean_squared_error, r2_score\n"
      ],
      "metadata": {
        "id": "dNZwttoP-NRH"
      },
      "execution_count": null,
      "outputs": []
    },
    {
      "cell_type": "code",
      "source": [
        "print(\"Mean squared error: %.2f\" % mean_squared_error(list(y_test), y_pred))"
      ],
      "metadata": {
        "colab": {
          "base_uri": "https://localhost:8080/"
        },
        "id": "1l_eRVcj-P4q",
        "outputId": "ea7bd8e9-1f26-45a4-995b-446c92f5ba29"
      },
      "execution_count": null,
      "outputs": [
        {
          "output_type": "stream",
          "name": "stdout",
          "text": [
            "Mean squared error: 0.04\n"
          ]
        }
      ]
    },
    {
      "cell_type": "code",
      "source": [
        "mean_squared_error(reg.predict(X_train), y_train)"
      ],
      "metadata": {
        "colab": {
          "base_uri": "https://localhost:8080/"
        },
        "id": "T5ts1yYSxwj7",
        "outputId": "26e1512e-3491-48cd-f62a-61c07edf51c7"
      },
      "execution_count": null,
      "outputs": [
        {
          "output_type": "execute_result",
          "data": {
            "text/plain": [
              "0.013853462247633433"
            ]
          },
          "metadata": {},
          "execution_count": 112
        }
      ]
    },
    {
      "cell_type": "code",
      "source": [
        "mean_squared_error(list(y_test), y_pred) ** 10"
      ],
      "metadata": {
        "colab": {
          "base_uri": "https://localhost:8080/"
        },
        "id": "6w3hkCplMYLA",
        "outputId": "df453480-248c-4e34-89ea-e72381192fd2"
      },
      "execution_count": null,
      "outputs": [
        {
          "output_type": "execute_result",
          "data": {
            "text/plain": [
              "3.704834041575651e-15"
            ]
          },
          "metadata": {},
          "execution_count": 113
        }
      ]
    },
    {
      "cell_type": "code",
      "source": [
        "print(\"Coefficient of determination: %.2f\" % r2_score(y_test, y_pred))\n"
      ],
      "metadata": {
        "colab": {
          "base_uri": "https://localhost:8080/"
        },
        "id": "5bofRViOAErz",
        "outputId": "5f51abb3-8f1d-4a54-b195-aef8876b0222"
      },
      "execution_count": null,
      "outputs": [
        {
          "output_type": "stream",
          "name": "stdout",
          "text": [
            "Coefficient of determination: nan\n"
          ]
        },
        {
          "output_type": "stream",
          "name": "stderr",
          "text": [
            "/usr/local/lib/python3.7/dist-packages/sklearn/metrics/_regression.py:796: UndefinedMetricWarning: R^2 score is not well-defined with less than two samples.\n",
            "  warnings.warn(msg, UndefinedMetricWarning)\n"
          ]
        }
      ]
    },
    {
      "cell_type": "code",
      "source": [
        "from sklearn.neural_network import MLPRegressor\n",
        "regr = MLPRegressor(random_state=1, max_iter=99999, hidden_layer_sizes=(100, 100, 100))"
      ],
      "metadata": {
        "id": "AnT44Uf9AIRo"
      },
      "execution_count": null,
      "outputs": []
    },
    {
      "cell_type": "code",
      "source": [
        "regr = regr.fit(X_train, y_train)\n",
        "y_predr = regr.predict(X_test)\n"
      ],
      "metadata": {
        "id": "-fJJx_kt0SfI"
      },
      "execution_count": null,
      "outputs": []
    },
    {
      "cell_type": "code",
      "source": [
        "print(\"Mean squared error: %.2f\" % mean_squared_error(list(y_test), y_predr))"
      ],
      "metadata": {
        "colab": {
          "base_uri": "https://localhost:8080/"
        },
        "id": "0wSH-KBS0b4u",
        "outputId": "95b306fb-7133-4ec3-9b59-c3eb23b3897f"
      },
      "execution_count": null,
      "outputs": [
        {
          "output_type": "stream",
          "name": "stdout",
          "text": [
            "Mean squared error: 5.92\n"
          ]
        }
      ]
    },
    {
      "cell_type": "code",
      "source": [
        "mean_squared_error(regr.predict(X_train), y_train)"
      ],
      "metadata": {
        "colab": {
          "base_uri": "https://localhost:8080/"
        },
        "id": "5z1afv0V0e15",
        "outputId": "b1af0223-c7a1-4924-dee9-b0a05dcb59ce"
      },
      "execution_count": null,
      "outputs": [
        {
          "output_type": "execute_result",
          "data": {
            "text/plain": [
              "0.0015892009628624868"
            ]
          },
          "metadata": {},
          "execution_count": 118
        }
      ]
    },
    {
      "cell_type": "code",
      "source": [
        "o = cross_validate(regr, X_train, y_train, cv=5, scoring=\"neg_mean_squared_error\", return_train_score=True)\n"
      ],
      "metadata": {
        "id": "I-HV48vF0i2Y"
      },
      "execution_count": null,
      "outputs": []
    },
    {
      "cell_type": "code",
      "source": [
        "o"
      ],
      "metadata": {
        "colab": {
          "base_uri": "https://localhost:8080/"
        },
        "id": "Qu9QeOPc9BUk",
        "outputId": "d5721987-1568-4d9e-e4a2-0373618c7ab5"
      },
      "execution_count": null,
      "outputs": [
        {
          "output_type": "execute_result",
          "data": {
            "text/plain": [
              "{'fit_time': array([11.60051847, 10.97276855,  9.08121324,  7.96970367,  7.75488758]),\n",
              " 'score_time': array([0.00863552, 0.0086205 , 0.00878525, 0.00941825, 0.00890589]),\n",
              " 'test_score': array([-10.9324284 ,  -2.55530149,  -3.87200549, -28.86466999,\n",
              "        -22.62568216]),\n",
              " 'train_score': array([-0.00017446, -0.00096042, -0.00655968, -0.02638806, -0.01455147])}"
            ]
          },
          "metadata": {},
          "execution_count": 124
        }
      ]
    },
    {
      "cell_type": "code",
      "source": [
        ""
      ],
      "metadata": {
        "id": "CH7-xjXw9MyT"
      },
      "execution_count": null,
      "outputs": []
    }
  ]
}